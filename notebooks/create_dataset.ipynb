{
 "cells": [
  {
   "cell_type": "code",
   "execution_count": null,
   "metadata": {},
   "outputs": [],
   "source": [
    "import pandas as pd"
   ]
  },
  {
   "cell_type": "code",
   "execution_count": null,
   "metadata": {},
   "outputs": [],
   "source": [
    "df_2024 = pd.read_csv(\"../data/raw/2023-10-14_2024-10-11_DataExport.csv\", delimiter=\";\")\n",
    "df_2023 = pd.read_csv(\"../data/raw/2022-10-14_2023-10-14_DataExport.csv\", delimiter=\";\")\n",
    "df_2022 = pd.read_csv(\"../data/raw/2021-10-14_2022-10-14_DataExport.csv\", delimiter=\";\")"
   ]
  },
  {
   "cell_type": "code",
   "execution_count": null,
   "metadata": {},
   "outputs": [],
   "source": [
    "print(df_2024.shape)\n",
    "print(df_2023.shape)\n",
    "print(df_2022.shape)"
   ]
  },
  {
   "cell_type": "code",
   "execution_count": null,
   "metadata": {},
   "outputs": [],
   "source": [
    "df = pd.concat([df_2024, df_2023, df_2022], axis=0, ignore_index=True)\n",
    "print(df.shape)\n",
    "df.head()\n"
   ]
  },
  {
   "cell_type": "code",
   "execution_count": null,
   "metadata": {},
   "outputs": [],
   "source": [
    "df = df.drop_duplicates()\n",
    "df.shape"
   ]
  },
  {
   "cell_type": "code",
   "execution_count": null,
   "metadata": {},
   "outputs": [],
   "source": [
    "df.to_csv(\"../data/processed/data.csv\", sep=\";\", index=False)"
   ]
  },
  {
   "cell_type": "markdown",
   "metadata": {},
   "source": [
    "# Remove names and create a single column for identifying the tank"
   ]
  },
  {
   "cell_type": "code",
   "execution_count": null,
   "metadata": {},
   "outputs": [],
   "source": [
    "df = pd.read_csv(\"../data/processed/data.csv\", delimiter=\";\")"
   ]
  },
  {
   "cell_type": "code",
   "execution_count": null,
   "metadata": {},
   "outputs": [],
   "source": [
    "columns_to_drop = [\"Anlage\", \"Messstellen-TAG\", \"Produkt\", \"Kunde\", \"Straße\", \"Ort\", \"Region\", \"PLZ\", \"Gerätename\", \"Geräte-TAG\", \"Gerätenetz S/N\"]\n",
    "for c in df.columns: \n",
    "    unique_values = df[c].unique()\n",
    "    if len(unique_values) == 1:\n",
    "        columns_to_drop.append(c)\n",
    "df = df.drop(columns_to_drop, axis=1)\n",
    "print(df.columns)"
   ]
  },
  {
   "cell_type": "code",
   "execution_count": null,
   "metadata": {},
   "outputs": [],
   "source": [
    "df['Tank-ID'], uniques = pd.factorize(df['Tankname'])\n",
    "mapping_dict = dict(enumerate(uniques))\n",
    "print(mapping_dict)\n",
    "df.drop(\"Tankname\", axis=1, inplace=True)\n",
    "df.head()"
   ]
  },
  {
   "cell_type": "code",
   "execution_count": null,
   "metadata": {},
   "outputs": [],
   "source": [
    "mapping_unit_to_column = {\n",
    "    \"Füllstand\": \"l\", \n",
    "    \"Linear Prozentwert\": \"%\", \n",
    "    \"Sensorwert\": \"m\", \n",
    "    \"Leerstand\": \"l\", \n",
    "    \"Maximale Füllgrenze\": \"l\", \n",
    "    \"Temperatur\": \"°C\", \n",
    "    \"Sensorlage\": \"°\"\n",
    "}"
   ]
  },
  {
   "cell_type": "markdown",
   "metadata": {},
   "source": [
    "### Remove the units of the table"
   ]
  },
  {
   "cell_type": "code",
   "execution_count": null,
   "metadata": {},
   "outputs": [],
   "source": [
    "for column in [\"Füllstand\", \"Linear Prozentwert\", \"Sensorwert\", \"Leerstand\", \"Maximale Füllgrenze\", \"Temperatur\", \"Sensorlage\"]: \n",
    "    df[column] = df[column].str.replace(r'\\D', '', regex=True).astype(float)\n",
    "df.head()"
   ]
  },
  {
   "cell_type": "code",
   "execution_count": null,
   "metadata": {},
   "outputs": [],
   "source": [
    "df.to_csv(\"../data/processed/data_cleaned.csv\", sep=\";\", index=False)"
   ]
  },
  {
   "cell_type": "code",
   "execution_count": null,
   "metadata": {},
   "outputs": [],
   "source": []
  }
 ],
 "metadata": {
  "kernelspec": {
   "display_name": ".venv",
   "language": "python",
   "name": "python3"
  },
  "language_info": {
   "codemirror_mode": {
    "name": "ipython",
    "version": 3
   },
   "file_extension": ".py",
   "mimetype": "text/x-python",
   "name": "python",
   "nbconvert_exporter": "python",
   "pygments_lexer": "ipython3"
  }
 },
 "nbformat": 4,
 "nbformat_minor": 2
}
