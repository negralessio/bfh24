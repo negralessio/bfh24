{
 "cells": [
  {
   "cell_type": "code",
   "execution_count": null,
   "metadata": {},
   "outputs": [],
   "source": [
    "import pandas as pd"
   ]
  },
  {
   "cell_type": "code",
   "execution_count": null,
   "metadata": {},
   "outputs": [],
   "source": [
    "df_2024 = pd.read_csv(\"../data/raw/2023-10-14_2024-10-11_DataExport.csv\", delimiter=\";\")\n",
    "df_2023 = pd.read_csv(\"../data/raw/2022-10-14_2023-10-14_DataExport.csv\", delimiter=\";\")\n",
    "df_2022 = pd.read_csv(\"../data/raw/2021-10-14_2022-10-14_DataExport.csv\", delimiter=\";\")"
   ]
  },
  {
   "cell_type": "code",
   "execution_count": null,
   "metadata": {},
   "outputs": [],
   "source": [
    "print(df_2024.shape)\n",
    "print(df_2023.shape)\n",
    "print(df_2022.shape)"
   ]
  },
  {
   "cell_type": "code",
   "execution_count": null,
   "metadata": {},
   "outputs": [],
   "source": [
    "df = pd.concat([df_2024, df_2023, df_2022], axis=0, ignore_index=True)\n",
    "print(df.shape)\n",
    "df.head()\n"
   ]
  },
  {
   "cell_type": "code",
   "execution_count": null,
   "metadata": {},
   "outputs": [],
   "source": [
    "df = df.drop_duplicates()\n",
    "df.shape"
   ]
  },
  {
   "cell_type": "code",
   "execution_count": null,
   "metadata": {},
   "outputs": [],
   "source": [
    "df.to_csv(\"../data/processed/data.csv\", sep=\";\", index=False)"
   ]
  },
  {
   "cell_type": "markdown",
   "metadata": {},
   "source": [
    "# Remove names and create a single column for identifying the tank"
   ]
  },
  {
   "cell_type": "code",
   "execution_count": null,
   "metadata": {},
   "outputs": [],
   "source": [
    "df = pd.read_csv(\"../data/processed/data.csv\", delimiter=\";\")"
   ]
  },
  {
   "cell_type": "code",
   "execution_count": null,
   "metadata": {},
   "outputs": [],
   "source": [
    "columns_to_drop = [\"Anlage\", \"Messstellen-TAG\", \"Produkt\", \"Kunde\", \"Straße\", \"Ort\", \"Region\", \"PLZ\", \"Gerätename\", \"Geräte-TAG\", \"Gerätenetz S/N\"]\n",
    "for c in df.columns: \n",
    "    unique_values = df[c].unique()\n",
    "    if len(unique_values) == 1:\n",
    "        columns_to_drop.append(c)\n",
    "df = df.drop(columns_to_drop, axis=1)\n",
    "print(df.columns)"
   ]
  },
  {
   "cell_type": "code",
   "execution_count": null,
   "metadata": {},
   "outputs": [],
   "source": [
    "df['Tank-ID'], uniques = pd.factorize(df['Tankname'])\n",
    "mapping_dict = dict(enumerate(uniques))\n",
    "print(mapping_dict)\n",
    "df.drop(\"Tankname\", axis=1, inplace=True)\n",
    "df.head()"
   ]
  },
  {
   "cell_type": "code",
   "execution_count": null,
   "metadata": {},
   "outputs": [],
   "source": [
    "mapping_unit_to_column = {\n",
    "    \"Füllstand\": \"l\", \n",
    "    \"Linear Prozentwert\": \"%\", \n",
    "    \"Sensorwert\": \"m\", \n",
    "    \"Leerstand\": \"l\", \n",
    "    \"Maximale Füllgrenze\": \"l\", \n",
    "    \"Temperatur\": \"°C\", \n",
    "    \"Sensorlage\": \"°\"\n",
    "}"
   ]
  },
  {
   "cell_type": "markdown",
   "metadata": {},
   "source": [
    "### Remove the units of the table"
   ]
  },
  {
   "cell_type": "code",
   "execution_count": null,
   "metadata": {},
   "outputs": [],
   "source": [
    "for column in [\"Füllstand\", \"Leerstand\", \"Maximale Füllgrenze\"]:\n",
    "    df[column] = df[column].str.replace(' l', '').str.replace(' Liter', '').str.replace(',', '').astype(float)\n",
    "for column in [\"Linear Prozentwert\"]:\n",
    "    df[column] = df[column].str.replace(' %', '').str.replace(',', '').astype(float)\n",
    "for column in [\"Sensorwert\"]:\n",
    "    df[column] = df[column].str.replace(' m', '').str.replace(',', '').astype(float)\n",
    "for column in [\"Temperatur\"]:\n",
    "    df[column] = df[column].str.replace(' °C', '').str.replace(',', '').astype(float)\n",
    "for column in [\"Sensorlage\"]:\n",
    "    df[column] = df[column].str.replace(' °', '').str.replace(',', '').astype(float)\n",
    "\n",
    "# Not used because of negative values and the - would be removed\n",
    "#for column in [\"Linear Prozentwert\", \"Sensorwert\", \"Temperatur\", \"Sensorlage\"]: \n",
    "#    df[column] = df[column].str.replace(r'\\D', '', regex=True).astype(float)\n",
    "df.head()"
   ]
  },
  {
   "cell_type": "code",
   "execution_count": null,
   "metadata": {},
   "outputs": [],
   "source": [
    "df.to_csv(\"../data/processed/data_cleaned.csv\", sep=\";\", index=False)"
   ]
  },
  {
   "cell_type": "markdown",
   "metadata": {},
   "source": [
    "# One datapoint per day\n",
    "\n",
    "Group per tank and day and calculate average of that day (for non-numeric features select min)"
   ]
  },
  {
   "cell_type": "code",
   "execution_count": null,
   "metadata": {},
   "outputs": [],
   "source": [
    "import pandas as pd"
   ]
  },
  {
   "cell_type": "code",
   "execution_count": null,
   "metadata": {},
   "outputs": [],
   "source": [
    "df = pd.read_csv(\"../data/processed/data_cleaned.csv\", delimiter=\";\")\n",
    "df.head()"
   ]
  },
  {
   "cell_type": "code",
   "execution_count": null,
   "metadata": {},
   "outputs": [],
   "source": [
    "df[\"Zeitstempel\"] = pd.to_datetime(df['Zeitstempel']).dt.date\n",
    "df.sort_values(\"Zeitstempel\").head()"
   ]
  },
  {
   "cell_type": "code",
   "execution_count": null,
   "metadata": {},
   "outputs": [],
   "source": [
    "aggregation_functions = {col: 'min' for col in df.select_dtypes(include='number').columns}\n",
    "aggregation_functions.update({col: 'min' for col in df.select_dtypes(include='object').columns})\n",
    "del aggregation_functions[\"Tank-ID\"]\n",
    "del aggregation_functions[\"Zeitstempel\"]\n",
    "print(aggregation_functions)\n",
    "\n",
    "# Group by 'tank-id' and 'date', apply the aggregation functions\n",
    "df = df.groupby(['Tank-ID', 'Zeitstempel']).agg(aggregation_functions).reset_index()\n",
    "df.head()"
   ]
  },
  {
   "cell_type": "code",
   "execution_count": null,
   "metadata": {},
   "outputs": [],
   "source": [
    "df.to_csv(\"../data/processed/data_one_day.csv\", sep=\";\", index=False)"
   ]
  },
  {
   "cell_type": "markdown",
   "metadata": {},
   "source": [
    "Check if there are gaps in the data"
   ]
  },
  {
   "cell_type": "code",
   "execution_count": null,
   "metadata": {},
   "outputs": [],
   "source": [
    "tank_ids = df[\"Tank-ID\"].unique()\n",
    "for id in tank_ids:\n",
    "    full_range = pd.date_range(start=df[df['Tank-ID'] == id]['Zeitstempel'].min(), end=df['Zeitstempel'].max())\n",
    "\n",
    "    # Find the missing dates by checking which dates in the full range are not in the DataFrame\n",
    "    missing_dates = full_range.difference(df['Zeitstempel'])\n",
    "\n",
    "    print(f\"Tank-ID {id}: Number of missing dates: {len(missing_dates)}\")"
   ]
  },
  {
   "cell_type": "markdown",
   "metadata": {},
   "source": [
    "# Calculate 'Verbrauch' per day"
   ]
  },
  {
   "cell_type": "code",
   "execution_count": null,
   "metadata": {},
   "outputs": [],
   "source": [
    "df = df.sort_values(by=['Tank-ID', 'Zeitstempel'])\n",
    "\n",
    "# Group by 'Tank-ID' and calculate the difference in 'Füllstand' for each day\n",
    "df['Verbrauch'] = df.groupby('Tank-ID')['Füllstand'].diff().shift(-1)"
   ]
  },
  {
   "cell_type": "markdown",
   "metadata": {},
   "source": [
    "# Remove outliers\n",
    "\n",
    "At first manual, to get clean data. \n",
    "If there is time afterwards make it automatically to generalize it. "
   ]
  },
  {
   "cell_type": "code",
   "execution_count": null,
   "metadata": {},
   "outputs": [],
   "source": [
    "import pandas as pd\n",
    "import seaborn as sns\n",
    "import matplotlib.pyplot as plt\n",
    "import numpy as np"
   ]
  },
  {
   "cell_type": "code",
   "execution_count": null,
   "metadata": {},
   "outputs": [],
   "source": [
    "fig, axes = plt.subplots(nrows=3, ncols=2, figsize=(12, 9))\n",
    "for tank_id, ax in zip(df[\"Tank-ID\"].unique().tolist(), axes.flatten()):\n",
    "    df_temp = df[df[\"Tank-ID\"] == tank_id]\n",
    "    ax.set_title(f\"Tank-ID {tank_id}\")\n",
    "    sns.lineplot(data=df_temp, y=\"Füllstand\", x=\"Zeitstempel\", ax=ax)\n",
    "fig.tight_layout()"
   ]
  },
  {
   "cell_type": "code",
   "execution_count": null,
   "metadata": {},
   "outputs": [],
   "source": [
    "fig, axes = plt.subplots(nrows=3, ncols=2, figsize=(12, 9))\n",
    "for tank_id, ax in zip(df[\"Tank-ID\"].unique().tolist(), axes.flatten()):\n",
    "    df_temp = df[df[\"Tank-ID\"] == tank_id]\n",
    "    ax.set_title(f\"Tank-ID {tank_id}\")\n",
    "    sns.lineplot(data=df_temp, y=\"Verbrauch\", x=\"Zeitstempel\", ax=ax)\n",
    "fig.tight_layout()"
   ]
  },
  {
   "cell_type": "markdown",
   "metadata": {},
   "source": [
    "To get the outliers there I try the following approaches:\n",
    "- Z-score\n",
    "- IQR\n",
    "- Rolling Window\n",
    "\n",
    "Other more advanced methods could be ML models"
   ]
  },
  {
   "cell_type": "code",
   "execution_count": null,
   "metadata": {},
   "outputs": [],
   "source": [
    "# Simple threshold\n",
    "df[\"Threshold Outlier\"] = np.nan\n",
    "df[\"Threshold Outlier\"] = df[\"Verbrauch\"].abs() > 20"
   ]
  },
  {
   "cell_type": "code",
   "execution_count": null,
   "metadata": {},
   "outputs": [],
   "source": [
    "fig, axes = plt.subplots(nrows=6, ncols=2, figsize=(12, 15))\n",
    "scatter = True\n",
    "duplicate_tank_ids = sorted([id for id in tank_ids for _ in range(2)])\n",
    "for tank_id, ax in zip(duplicate_tank_ids, axes.flatten()):\n",
    "    df_temp = df[df[\"Tank-ID\"] == tank_id]\n",
    "    ax.set_title(f\"Tank-ID {tank_id}\")\n",
    "    if scatter:\n",
    "        sns.scatterplot(data=df_temp, y=\"Verbrauch\", x=\"Zeitstempel\", hue=\"Threshold Outlier\", ax=ax)\n",
    "        scatter = False\n",
    "    else:\n",
    "        sns.lineplot(data=df_temp[df_temp[\"Threshold Outlier\"] == False], y=\"Verbrauch\", x=\"Zeitstempel\", ax=ax)\n",
    "        scatter = True\n",
    "fig.tight_layout()"
   ]
  },
  {
   "cell_type": "code",
   "execution_count": null,
   "metadata": {},
   "outputs": [],
   "source": [
    "# Z-Score Outlier\n",
    "df[\"Z-Score\"] = np.nan\n",
    "for id in tank_ids:\n",
    "    df.loc[df[\"Tank-ID\"] == id, \"Z-Score\"] = (df[df[\"Tank-ID\"] == id]['Verbrauch'] - df[df[\"Tank-ID\"] == id]['Verbrauch'].mean()) / df[df[\"Tank-ID\"] == id]['Verbrauch'].std()\n",
    "\n",
    "print(df[\"Z-Score\"].isna().sum())\n",
    "# df[df[\"Z-Score\"].isna()].head(10)\n",
    "# df.describe()\n",
    "df[\"Z-Score\"].fillna(0)\n",
    "df[\"Z-Score Outlier\"] = None\n",
    "df[\"Z-Score Outlier\"] = df[\"Z-Score\"].abs() > 2"
   ]
  },
  {
   "cell_type": "code",
   "execution_count": null,
   "metadata": {},
   "outputs": [],
   "source": [
    "fig, axes = plt.subplots(nrows=6, ncols=2, figsize=(12, 15))\n",
    "scatter = True\n",
    "duplicate_tank_ids = sorted([id for id in tank_ids for _ in range(2)])\n",
    "for tank_id, ax in zip(duplicate_tank_ids, axes.flatten()):\n",
    "    df_temp = df[df[\"Tank-ID\"] == tank_id]\n",
    "    ax.set_title(f\"Tank-ID {tank_id}\")\n",
    "    if scatter:\n",
    "        sns.scatterplot(data=df_temp, y=\"Verbrauch\", x=\"Zeitstempel\", hue=\"Threshold Outlier\", ax=ax)\n",
    "        scatter = False\n",
    "    else:\n",
    "        sns.lineplot(data=df_temp[df_temp[\"Z-Score Outlier\"] == False], y=\"Verbrauch\", x=\"Zeitstempel\", ax=ax)\n",
    "        scatter = True\n",
    "fig.tight_layout()"
   ]
  },
  {
   "cell_type": "code",
   "execution_count": null,
   "metadata": {},
   "outputs": [],
   "source": [
    "# IQR Outliers\n",
    "df[\"IQR Outlier\"] = None\n",
    "for id in tank_ids:\n",
    "    Q1 = df[df[\"Tank-ID\"] == id]['Verbrauch'].quantile(0.25)\n",
    "    Q3 = df[df[\"Tank-ID\"] == id]['Verbrauch'].quantile(0.75)\n",
    "    IQR = Q3 - Q1\n",
    "\n",
    "    # Define outlier bounds\n",
    "    lower_bound = Q1 - 1.5 * IQR\n",
    "    upper_bound = Q3 + 1.5 * IQR\n",
    "\n",
    "    # Identify outliers\n",
    "    lb = df[(df[\"Tank-ID\"] == id)][\"Verbrauch\"] < lower_bound \n",
    "    ub = df[(df[\"Tank-ID\"] == id)][\"Verbrauch\"] > upper_bound\n",
    "\n",
    "    df.loc[df[\"Tank-ID\"] == id, \"IQR Outlier\"] = lb | ub\n",
    "    #df.loc[df[\"Tank-ID\"] == id, \"IQR Outlier\"] = df[df[\"Tank-ID\"] == id][(df[df[\"Tank-ID\"] == id]['Verbrauch'] < lower_bound) | (df[df[\"Tank-ID\"] == id]['Verbrauch'] > upper_bound)]"
   ]
  },
  {
   "cell_type": "code",
   "execution_count": null,
   "metadata": {},
   "outputs": [],
   "source": [
    "fig, axes = plt.subplots(nrows=6, ncols=2, figsize=(12, 15))\n",
    "scatter = True\n",
    "duplicate_tank_ids = sorted([id for id in tank_ids for _ in range(2)])\n",
    "for tank_id, ax in zip(duplicate_tank_ids, axes.flatten()):\n",
    "    df_temp = df[df[\"Tank-ID\"] == tank_id]\n",
    "    ax.set_title(f\"Tank-ID {tank_id}\")\n",
    "    if scatter:\n",
    "        sns.scatterplot(data=df_temp, y=\"Verbrauch\", x=\"Zeitstempel\", hue=\"Threshold Outlier\", ax=ax)\n",
    "        scatter = False\n",
    "    else:\n",
    "        sns.lineplot(data=df_temp[df_temp[\"IQR Outlier\"] == False], y=\"Verbrauch\", x=\"Zeitstempel\", ax=ax)\n",
    "        scatter = True\n",
    "fig.tight_layout()"
   ]
  },
  {
   "cell_type": "code",
   "execution_count": null,
   "metadata": {},
   "outputs": [],
   "source": [
    "# Rolling Window Outliers\n",
    "df[\"RW Outlier\"] = None\n",
    "for id in tank_ids:\n",
    "    # Use a rolling window to detect peaks\n",
    "    df['RW Outlier'] = (df['Verbrauch'] > df['Verbrauch'].shift(2)) & (df['Verbrauch'] > df['Verbrauch'].shift(1)) & (df['Verbrauch'] > df['Verbrauch'].shift(-1)) & (df['Verbrauch'] > df['Verbrauch'].shift(-2))"
   ]
  },
  {
   "cell_type": "code",
   "execution_count": null,
   "metadata": {},
   "outputs": [],
   "source": [
    "fig, axes = plt.subplots(nrows=6, ncols=2, figsize=(12, 15))\n",
    "scatter = True\n",
    "duplicate_tank_ids = sorted([id for id in tank_ids for _ in range(2)])\n",
    "for tank_id, ax in zip(duplicate_tank_ids, axes.flatten()):\n",
    "    df_temp = df[df[\"Tank-ID\"] == tank_id]\n",
    "    ax.set_title(f\"Tank-ID {tank_id}\")\n",
    "    if scatter:\n",
    "        sns.scatterplot(data=df_temp, y=\"Verbrauch\", x=\"Zeitstempel\", hue=\"Threshold Outlier\", ax=ax)\n",
    "        scatter = False\n",
    "    else:\n",
    "        sns.lineplot(data=df_temp[df_temp[\"RW Outlier\"] == False], y=\"Verbrauch\", x=\"Zeitstempel\", ax=ax)\n",
    "        scatter = True\n",
    "fig.tight_layout()"
   ]
  },
  {
   "cell_type": "markdown",
   "metadata": {},
   "source": [
    "With the IQR method the outliers are detected. \n",
    "We interpolate the detected outliers with the mean of the day before and after. "
   ]
  },
  {
   "cell_type": "markdown",
   "metadata": {},
   "source": [
    "## Replace the outliers with interpolation"
   ]
  },
  {
   "cell_type": "code",
   "execution_count": null,
   "metadata": {},
   "outputs": [],
   "source": [
    "dfs_per_id = []\n",
    "for id in tank_ids:\n",
    "    df_tmp = df[df[\"Tank-ID\"] == id]\n",
    "    df_tmp = df_tmp.sort_values(by='Zeitstempel').reset_index(drop=True)\n",
    "    for i in range(len(df_tmp)):\n",
    "        if df_tmp.loc[i, 'IQR Outlier']:\n",
    "            # Find last valid value before the outlier\n",
    "            #last_valid = df_tmp.loc[:i - 1, 'Verbrauch'][~df['IQR Outlier']].tail(1)\n",
    "            last_valid = df_tmp.loc[:(i - 1)]\n",
    "            last_valid = last_valid[last_valid[\"IQR Outlier\"] == False]\n",
    "            last_valid = last_valid.tail(1)[\"Verbrauch\"]\n",
    "\n",
    "            # Find first valid value after the outlier\n",
    "            #first_valid = df_tmp.loc[i + 1:, 'Verbrauch'][~df['IQR Outlier']].head(1)\n",
    "            first_valid = df_tmp.loc[(i + 1):]\n",
    "            first_valid = first_valid[first_valid[\"IQR Outlier\"] == False]\n",
    "            first_valid = first_valid.head(1)[\"Verbrauch\"]\n",
    "\n",
    "            # Calculate the mean of the last valid and first valid values\n",
    "            if not last_valid.empty and not first_valid.empty:\n",
    "                new_value = (last_valid.values[0] + first_valid.values[0]) / 2\n",
    "                df_tmp.loc[i, 'Verbrauch'] = new_value\n",
    "            if not last_valid.empty and first_valid.empty:\n",
    "                new_value = (last_valid.values[0])\n",
    "                df_tmp.loc[i, 'Verbrauch'] = new_value\n",
    "            if not first_valid.empty and last_valid.empty:\n",
    "                new_value = (first_valid.values[0])\n",
    "                df_tmp.loc[i, 'Verbrauch'] = new_value\n",
    "    \n",
    "    dfs_per_id.append(df_tmp)\n",
    "\n",
    "df_new = pd.concat(dfs_per_id, axis=0, ignore_index=True)\n",
    "df = df_new[~df_new[\"Verbrauch\"].isna()]"
   ]
  },
  {
   "cell_type": "code",
   "execution_count": null,
   "metadata": {},
   "outputs": [],
   "source": [
    "df.head()"
   ]
  },
  {
   "cell_type": "code",
   "execution_count": null,
   "metadata": {},
   "outputs": [],
   "source": [
    "fig, axes = plt.subplots(nrows=3, ncols=2, figsize=(12, 9))\n",
    "for tank_id, ax in zip(df_new[\"Tank-ID\"].unique().tolist(), axes.flatten()):\n",
    "    df_temp = df_new[df_new[\"Tank-ID\"] == tank_id]\n",
    "    ax.set_title(f\"Tank-ID {tank_id}\")\n",
    "    sns.lineplot(data=df_temp, y=\"Verbrauch\", x=\"Zeitstempel\", ax=ax)\n",
    "fig.tight_layout()"
   ]
  },
  {
   "cell_type": "code",
   "execution_count": null,
   "metadata": {},
   "outputs": [],
   "source": [
    "df_new.to_parquet(\"../data/processed/data.parquet\")\n",
    "df_new.to_pickle(\"../data/processed/data.pickle\")\n"
   ]
  },
  {
   "cell_type": "markdown",
   "metadata": {},
   "source": [
    "# Get baseline from noisy values"
   ]
  },
  {
   "cell_type": "code",
   "execution_count": null,
   "metadata": {},
   "outputs": [],
   "source": [
    "from scipy.ndimage import uniform_filter1d\n",
    "from pybaselines import Baseline"
   ]
  },
  {
   "cell_type": "code",
   "execution_count": null,
   "metadata": {},
   "outputs": [],
   "source": [
    "df_new = df_new[~df_new[\"Verbrauch\"].isna()]\n",
    "print(df_new[\"Verbrauch\"].isna().sum())"
   ]
  },
  {
   "cell_type": "code",
   "execution_count": null,
   "metadata": {},
   "outputs": [],
   "source": [
    "df_new[\"Verbrauch smoothed\"] = np.nan\n",
    "dfs_per_id = []\n",
    "fig, axes = plt.subplots(nrows=3, ncols=2, figsize=(12, 9))\n",
    "for tank_id, ax in zip(df_new[\"Tank-ID\"].unique().tolist(), axes.flatten()):\n",
    "    df_temp = df_new[df_new[\"Tank-ID\"] == tank_id]\n",
    "    df_temp.loc[:, \"Verbrauch smoothed\"] = uniform_filter1d(df_temp[\"Verbrauch\"], 11)\n",
    "    dfs_per_id.append(df_temp)\n",
    "    #baseline_fitter = Baseline(x_data=df_temp[\"Verbrauch\"])\n",
    "    #df_temp[\"smoothed_modpoly\"] = baseline_fitter.imodpoly(df_temp[\"Verbrauch\"], poly_order=3, num_std=0.7)[0]\n",
    "\n",
    "    ax.set_title(f\"Tank-ID {tank_id}\")\n",
    "    sns.lineplot(y=df_temp[\"Verbrauch\"], x=df_temp[\"Zeitstempel\"], color='blue', ax=ax)\n",
    "    sns.lineplot(y=df_temp[\"Verbrauch smoothed\"], x=df_temp[\"Zeitstempel\"], color='orange', ax=ax)\n",
    "    #sns.lineplot(y=df_temp[\"smoothed_modpoly\"], x=df_temp[\"Zeitstempel\"], color='green', ax=ax)\n",
    "fig.tight_layout()\n",
    "\n",
    "df = pd.concat(dfs_per_id, axis=0, ignore_index=True)"
   ]
  },
  {
   "cell_type": "code",
   "execution_count": null,
   "metadata": {},
   "outputs": [],
   "source": [
    "df.head()"
   ]
  },
  {
   "cell_type": "code",
   "execution_count": null,
   "metadata": {},
   "outputs": [],
   "source": [
    "df.drop([\"Threshold Outlier\", \"Z-Score\", \"Z-Score Outlier\", \"IQR Outlier\", \"RW Outlier\"], axis=1, inplace=True)\n",
    "df.head()"
   ]
  },
  {
   "cell_type": "code",
   "execution_count": null,
   "metadata": {},
   "outputs": [],
   "source": [
    "df.to_pickle(\"../data/processed/data_one_day_clean.pickle\")"
   ]
  },
  {
   "cell_type": "markdown",
   "metadata": {},
   "source": [
    "# Verify data"
   ]
  },
  {
   "cell_type": "code",
   "execution_count": null,
   "metadata": {},
   "outputs": [],
   "source": []
  }
 ],
 "metadata": {
  "kernelspec": {
   "display_name": "venv",
   "language": "python",
   "name": "python3"
  },
  "language_info": {
   "codemirror_mode": {
    "name": "ipython",
    "version": 3
   },
   "file_extension": ".py",
   "mimetype": "text/x-python",
   "name": "python",
   "nbconvert_exporter": "python",
   "pygments_lexer": "ipython3"
  }
 },
 "nbformat": 4,
 "nbformat_minor": 2
}
